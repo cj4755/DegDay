{
 "metadata": {
  "name": ""
 },
 "nbformat": 3,
 "nbformat_minor": 0,
 "worksheets": [
  {
   "cells": [
    {
     "cell_type": "code",
     "collapsed": false,
     "input": [
      "# In this code, arg1,2,3,4 are parameters that changes with the html url link. \n",
      "# For instance \"5050\" in the hmtm link represents toronto station1d, 2015 represents 2015 data\n",
      "# 1 represents one months and so on. Everyone could study the link too to get more ideas about this.\n",
      "# So i think if we change these parameters we could get the 3years data we discussed earlier \n",
      "#str 1 to 5 are parameters in the html that are constant\n",
      "\n",
      "import urllib.request\n",
      "arg1 = \"5050\"\n",
      "arg2 = \"2015\"\n",
      "arg3 = \"6\"\n",
      "arg4 = \"1\"\n",
      "str_1 = \"http://climate.weather.gc.ca/climate_data/bulk_data_e.html?format=csv&stationID=\"\n",
      "Station_ID = arg1\n",
      "str_2 = \"&Year=\"\n",
      "Year = arg2\n",
      "str_3 = \"&Month=\"\n",
      "Month = arg3\n",
      "str_4 = \"&Day=\"\n",
      "Day = arg4\n",
      "str_5 = \"&timeframe=2&submit=Download+Data\"\n",
      "string = str_1 + Station_ID + str_2 + Year + str_3 + Month + str_4 + Day + str_5\n",
      "csv = urllib.request.urlopen(string)\n",
      "prnt = []\n",
      "\n",
      "#This loop reads the data and prints some of the lines\n",
      "#We could improve on the loop to print\n",
      "#Just the needed cols from the downloads\n",
      "for line in csv:\n",
      "    prnt.append(line)\n",
      "    print(prnt[-1])\n"
     ],
     "language": "python",
     "metadata": {},
     "outputs": []
    }
   ],
   "metadata": {}
  }
 ]
}